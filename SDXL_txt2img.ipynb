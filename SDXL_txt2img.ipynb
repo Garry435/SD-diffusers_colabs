{
  "nbformat": 4,
  "nbformat_minor": 0,
  "metadata": {
    "colab": {
      "provenance": [],
      "gpuType": "T4"
    },
    "kernelspec": {
      "name": "python3",
      "display_name": "Python 3"
    },
    "language_info": {
      "name": "python"
    },
    "accelerator": "GPU"
  },
  "cells": [
    {
      "cell_type": "markdown",
      "metadata": {
        "id": "view-in-github",
        "colab_type": "text"
      },
      "source": [
        "<a href=\"https://colab.research.google.com/github/Garry435/SD-diffusers_colabs/blob/main/SDXL_txt2img.ipynb" target=\"_parent\"><img src=\"https://colab.research.google.com/assets/colab-badge.svg\" alt=\"Open In Colab\"/></a>"
      ]
    },
    {
      "cell_type": "code",
      "execution_count": null,
      "metadata": {
        "cellView": "form",
        "id": "3nahOq36UE6Y"
      },
      "outputs": [],
      "source": [
        "# @title SETUP\n",
        "!pip install git+https://github.com/Garry435/diffusers.git transformers xformers accelerate omegaconf torchsde\n",
        "!apt -y install -qq aria2"
      ]
    },
    {
      "cell_type": "markdown",
      "source": [
        "THE **DOWNLOAD MODEL** CELL CAN BE USED TO DOWNLOAD BOTH MODELS AND LORAS ,  ANY LINK TO A .safetensors FILE CAN BE PASSED AS URL"
      ],
      "metadata": {
        "id": "GZqqwr8aK-PH"
      }
    },
    {
      "cell_type": "code",
      "source": [
        "import os\n",
        "os.makedirs(f'models',exist_ok=True)\n",
        "\n",
        "# @title DOWNLOAD MODEL\n",
        "\n",
        "Model_url = 'https://civitai.com/api/download/models/174609'# @param {type:\"string\"}\n",
        "Model_name = 'YamerMIX-xl'# @param {type:\"string\"}\n",
        "if not Model_name.endswith('.safetensors'):\n",
        "    Model_name=Model_name+'.safetensors'\n",
        "\n",
        "!aria2c --console-log-level=error -c -x 16 -s 16 -k 1M {Model_url} -d models -o {Model_name}\n",
        "print('\\nAvailable models :')\n",
        "for MODEL in os.listdir('models'):\n",
        "    print(MODEL.replace('.safetensors',''))"
      ],
      "metadata": {
        "cellView": "form",
        "id": "4r90dC0AUltr"
      },
      "execution_count": null,
      "outputs": []
    },
    {
      "cell_type": "code",
      "source": [
        "# @title LOAD MODEL\n",
        "\n",
        "from diffusers import StableDiffusionXLPipeline, DDIMParallelScheduler, DDIMScheduler, DDPMParallelScheduler, DDPMScheduler, DEISMultistepScheduler, DPMSolverMultistepScheduler, DPMSolverSDEScheduler, DPMSolverSinglestepScheduler, EulerAncestralDiscreteScheduler, EulerDiscreteScheduler, HeunDiscreteScheduler, KDPM2AncestralDiscreteScheduler, KDPM2DiscreteScheduler, LMSDiscreteScheduler, PNDMScheduler, UniPCMultistepScheduler\n",
        "from diffusers.utils import make_image_grid\n",
        "import torch,random,os\n",
        "from IPython.display import display\n",
        "\n",
        "os.makedirs(f'outputs',exist_ok=True)\n",
        "MODEL_NAME  = \"YamerMIX-xl\"# @param {type:\"string\"}\n",
        "if not MODEL_NAME.endswith('.safetensors'):\n",
        "    MODEL_NAME=MODEL_NAME+'.safetensors'\n",
        "print(f'\\n\\nCurrently selected : {MODEL_NAME}')\n",
        "model_path = f'models/{MODEL_NAME}'\n",
        "\n",
        "pipe = StableDiffusionXLPipeline.from_single_file(\n",
        "    model_path, revision=\"fp16\", torch_dtype=torch.float16,variant=\"fp16\",scheduler_type='dpm'\n",
        ")\n",
        "\n",
        "pipe.to(\"cuda\")\n",
        "pipe.enable_xformers_memory_efficient_attention()"
      ],
      "metadata": {
        "cellView": "form",
        "id": "jmouxkB2U3Bf"
      },
      "execution_count": null,
      "outputs": []
    },
    {
      "cell_type": "markdown",
      "source": [
        "LOADING MANY LORAs IS NOT SUGGESTED AS COLAB HAS LIMITED RESOURCES AND IT MIGHT CRASH , 1-2 LORAs WORK FINE"
      ],
      "metadata": {
        "id": "y-7T6PSOKnRZ"
      }
    },
    {
      "cell_type": "code",
      "source": [
        "# @title LOAD LORA\n",
        "LORA_NAME= ''# @param {type:\"string\"}\n",
        "LORA_SCALE  = 0.5# @param {type:\"number\"}\n",
        "if not LORA_NAME.endswith('.safetensors'):\n",
        "    LORA_NAME=LORA_NAME+'.safetensors'\n",
        "print(f'\\n\\nCurrently selected : {LORA_NAME}')\n",
        "lora_path = f'models/{LORA_NAME}'\n",
        "pipe.load_lora_weights(lora_path)\n",
        "pipe.fuse_lora(1)"
      ],
      "metadata": {
        "cellView": "form",
        "id": "mIymmFSDGZ2S"
      },
      "execution_count": null,
      "outputs": []
    },
    {
      "cell_type": "code",
      "source": [
        "# @title GENERATE IMAGE\n",
        "\n",
        "PROMPT= ''# @param {type:\"string\"}\n",
        "NEGATIVE_PROMPT = ''# @param {type:\"string\"}\n",
        "WIDTH  = 1024# @param {type:\"integer\"}\n",
        "HEIGHT = 1024 # @param {type:\"integer\"}\n",
        "SAMPLING_STEPS  = 30# @param {type:\"integer\"}\n",
        "CFG_scale  = 7# @param {type:\"number\"}\n",
        "SEED  = -1# @param {type:\"number\"}\n",
        "CLIP_SKIP  = 1# @param {type:\"number\"}\n",
        "SCHEDULER  = \"EulerDiscreteScheduler\"# @param [\"DDIMParallelScheduler\",\"DDIMScheduler\",\"DDPMParallelScheduler\",\"DDPMScheduler\",\"DEISMultistepScheduler\",\"DPMSolverMultistepScheduler\",\"DPMSolverSDEScheduler\",\"DPMSolverSinglestepScheduler\",\"EulerAncestralDiscreteScheduler\",\"EulerDiscreteScheduler\",\"HeunDiscreteScheduler\",\"KDPM2AncestralDiscreteScheduler\",\"KDPM2DiscreteScheduler\",\"LMSDiscreteScheduler\",\"PNDMScheduler\",\"UniPCMultistepScheduler\"]\n",
        "USE_KARRAS = False # @param {type:\"boolean\"}\n",
        "NUMBER_OF_IMAGES  = 2# @param {type:\"number\"}\n",
        "CLIP_SKIP = None if CLIP_SKIP == 1 else CLIP_SKIP - 1\n",
        "\n",
        "if SEED == -1:\n",
        "    SEED = random.randint(1,10000000000)\n",
        "generator = torch.Generator(device=\"cuda\").manual_seed(SEED)\n",
        "sc = f'''pipe.scheduler = {SCHEDULER}.from_config(pipe.scheduler.config, use_karras_sigmas={USE_KARRAS})'''\n",
        "exec(sc)\n",
        "final_images=[]\n",
        "if NUMBER_OF_IMAGES != 1:\n",
        "    for i in range(NUMBER_OF_IMAGES):\n",
        "        SEED = random.randint(1,10000000000)\n",
        "        print(f'SEED : {SEED}')\n",
        "        generator = torch.Generator(device=\"cuda\").manual_seed(SEED)\n",
        "        image = pipe(PROMPT,negative_prompt = NEGATIVE_PROMPT,clip_skip=CLIP_SKIP,generator=generator,width = WIDTH , height = HEIGHT,num_inference_steps=SAMPLING_STEPS,guidance_scale = CFG_scale).images[0]\n",
        "        final_images.append(image)\n",
        "        image.save(f'outputs/{PROMPT[:10]}_{SEED}.png')\n",
        "    f_images = make_image_grid(final_images, 1, len(final_images))\n",
        "    display(f_images)\n",
        "else:\n",
        "    print(f'SEED : {SEED}')\n",
        "    image = pipe(PROMPT,negative_prompt = NEGATIVE_PROMPT,clip_skip=CLIP_SKIP,generator=generator,width = WIDTH , height = HEIGHT,num_inference_steps=SAMPLING_STEPS,guidance_scale = CFG_scale).images[0]\n",
        "    image.save(f'outputs/{PROMPT[:11]}_{SEED}_{CLIP_SKIP}_{SCHEDULER}.png')\n",
        "    display(image)\n"
      ],
      "metadata": {
        "id": "evZs88UOVdzn",
        "cellView": "form"
      },
      "execution_count": null,
      "outputs": []
    },
    {
      "cell_type": "code",
      "source": [
        "# @title DOWNLOAD THE ZIP WITH ALL THE IMAGES\n",
        "import zipfile\n",
        "import os\n",
        "from google.colab import files\n",
        "\n",
        "def zip_folder(folder_path, zip_filename):\n",
        "    with zipfile.ZipFile(zip_filename, 'w', zipfile.ZIP_DEFLATED) as zipf:\n",
        "        for root, _, files in os.walk(folder_path):\n",
        "            for file in files:\n",
        "                file_path = os.path.join(root, file)\n",
        "                arcname = os.path.relpath(file_path, folder_path)\n",
        "                zipf.write(file_path, arcname)\n",
        "\n",
        "folder_to_zip = \"outputs\"\n",
        "zip_filename = \"output.zip\"\n",
        "zip_folder(folder_to_zip, zip_filename)\n",
        "print(f'Succesfully saved all the images in {zip_filename}\\nDownloading the zip.....')\n",
        "files.download(zip_filename)"
      ],
      "metadata": {
        "cellView": "form",
        "id": "JNFyUckuixpr"
      },
      "execution_count": null,
      "outputs": []
    }
  ]
}
