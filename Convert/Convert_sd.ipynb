{
  "cells": [
    {
      "cell_type": "code",
      "execution_count": null,
      "metadata": {
        "id": "l1eKUBDvTMUV",
        "cellView": "form"
      },
      "outputs": [],
      "source": [
        "\n",
        "# @title SETUP\n",
        "!pip install git+https://github.com/Garry435/diffusers.git transformers accelerate omegaconf\n",
        "!apt -y install -qq aria2"
      ]
    },
    {
      "cell_type": "code",
      "execution_count": null,
      "metadata": {
        "cellView": "form",
        "colab": {
          "background_save": true
        },
        "id": "HbPvDJ8ITQm4"
      },
      "outputs": [],
      "source": [
        "from diffusers import StableDiffusionPipeline\n",
        "import os,torch\n",
        "\n",
        "os.makedirs(f'models',exist_ok=True)\n",
        "\n",
        "# @title CONVERT MODEL\n",
        "\n",
        "Model_url = ''# @param {type:\"string\"}\n",
        "Model_name = ''# @param {type:\"string\"}\n",
        "if not Model_name.endswith('.safetensors'):\n",
        "    Model_name=Model_name+'.safetensors'\n",
        "\n",
        "!aria2c --console-log-level=error -c -x 16 -s 16 -k 1M {Model_url} -d models -o {Model_name}\n",
        "model_path=\"models/\"+ Model_name\n",
        "pipe = StableDiffusionPipeline.from_single_file(\n",
        "    model_path, revision=\"fp16\", torch_dtype=torch.float16,variant=\"fp16\",load_safety_checker=False\n",
        ")\n",
        "MODEL_NAME = Model_name.replace('.safetensors','')\n",
        "pipe.save_pretrained(MODEL_NAME)\n",
        "print(f\"\\n\\nDIFFUSERS FORMAT MODEL SAVED IN FOLDER : {MODEL_NAME}\")"
      ]
    }
  ],
  "metadata": {
    "accelerator": "GPU",
    "colab": {
      "provenance": []
    },
    "kernelspec": {
      "display_name": "Python 3",
      "name": "python3"
    },
    "language_info": {
      "name": "python"
    }
  },
  "nbformat": 4,
  "nbformat_minor": 0
}