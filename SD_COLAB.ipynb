{
  "nbformat": 4,
  "nbformat_minor": 0,
  "metadata": {
    "colab": {
      "provenance": [],
      "gpuType": "T4"
    },
    "kernelspec": {
      "name": "python3",
      "display_name": "Python 3"
    },
    "language_info": {
      "name": "python"
    },
    "accelerator": "GPU"
  },
  "cells": [
    {
      "cell_type": "code",
      "execution_count": null,
      "metadata": {
        "cellView": "form",
        "id": "rQe0y8Hj8geV"
      },
      "outputs": [],
      "source": [
        "\n",
        "# @title SETUP\n",
        "!pip install git+https://github.com/huggingface/diffusers.git transformers xformers accelerate omegaconf torchsde\n",
        "!apt -y install -qq aria2"
      ]
    },
    {
      "cell_type": "code",
      "source": [
        "import os\n",
        "os.makedirs(f'models',exist_ok=True)\n",
        "\n",
        "# @title DOWNLOAD MODEL\n",
        "\n",
        "Model_url = 'https://civitai.com/api/download/models/119057'# @param {type:\"string\"}\n",
        "Model_name = 'meina_MIX'# @param {type:\"string\"}\n",
        "if not Model_name.endswith('.safetensors'):\n",
        "    Model_name=Model_name+'.safetensors'\n",
        "\n",
        "!aria2c --console-log-level=error -c -x 16 -s 16 -k 1M {Model_url} -d models -o {Model_name}\n",
        "print('\\nAvailable models :')\n",
        "for MODEL in os.listdir('models'):\n",
        "    print(MODEL.replace('.safetensors',''))"
      ],
      "metadata": {
        "cellView": "form",
        "id": "1c36S2I78rlP"
      },
      "execution_count": null,
      "outputs": []
    },
    {
      "cell_type": "code",
      "source": [
        "# @title LOAD MODEL\n",
        "\n",
        "from diffusers import StableDiffusionPipeline, DDIMParallelScheduler, DDIMScheduler, DDPMParallelScheduler, DDPMScheduler, DEISMultistepScheduler, DPMSolverMultistepScheduler, DPMSolverSDEScheduler, DPMSolverSinglestepScheduler, EulerAncestralDiscreteScheduler, EulerDiscreteScheduler, HeunDiscreteScheduler, KDPM2AncestralDiscreteScheduler, KDPM2DiscreteScheduler, LMSDiscreteScheduler, PNDMScheduler, UniPCMultistepScheduler\n",
        "from diffusers.utils import make_image_grid\n",
        "import torch,random,os\n",
        "from IPython.display import display\n",
        "\n",
        "os.makedirs(f'outputs',exist_ok=True)\n",
        "MODEL_NAME  = \"meina_MIX\"# @param {type:\"string\"}\n",
        "LOAD_TYPE = \"FP16 (FAST BUT AVERAGE QUALITY)\"# @param [\"FP32 (SLOW BUT GOOD QUALITY)\",\"FP16 (FAST BUT AVERAGE QUALITY)\"]\n",
        "if not MODEL_NAME.endswith('.safetensors'):\n",
        "    MODEL_NAME=MODEL_NAME+'.safetensors'\n",
        "print(f'\\n\\nCurrently selected : {MODEL_NAME}')\n",
        "model_path = f'models/{MODEL_NAME}'\n",
        "if LOAD_TYPE == \"FP32 (SLOW BUT GOOD QUALITY)\":\n",
        "    pipe = StableDiffusionPipeline.from_single_file(model_path,load_safety_checker = False,scheduler_type='dpm')\n",
        "else:\n",
        "    pipe = StableDiffusionPipeline.from_single_file(model_path, revision=\"fp16\",load_safety_checker = False, torch_dtype=torch.float16,variant=\"fp16\",scheduler_type='dpm')\n",
        "pipe.to(\"cuda\")\n",
        "pipe.enable_xformers_memory_efficient_attention()"
      ],
      "metadata": {
        "cellView": "form",
        "id": "ViqGxOCo9UeC"
      },
      "execution_count": null,
      "outputs": []
    },
    {
      "cell_type": "code",
      "source": [
        "# @title GENERATE IMAGE\n",
        "\n",
        "PROMPT= ''# @param {type:\"string\"}\n",
        "NEGATIVE_PROMPT = ''# @param {type:\"string\"}\n",
        "WIDTH  = 512# @param {type:\"integer\"}\n",
        "HEIGHT = 512 # @param {type:\"integer\"}\n",
        "SAMPLING_STEPS  = 30# @param {type:\"integer\"}\n",
        "CFG_scale  = 5# @param {type:\"number\"}\n",
        "SEED  = -1# @param {type:\"number\"}\n",
        "CLIP_SKIP  = 1# @param {type:\"number\"}\n",
        "SCHEDULER  = \"DPMSolverMultistepScheduler\"# @param [\"DDIMParallelScheduler\",\"DDIMScheduler\",\"DDPMParallelScheduler\",\"DDPMScheduler\",\"DEISMultistepScheduler\",\"DPMSolverMultistepScheduler\",\"DPMSolverSDEScheduler\",\"DPMSolverSinglestepScheduler\",\"EulerAncestralDiscreteScheduler\",\"EulerDiscreteScheduler\",\"HeunDiscreteScheduler\",\"KDPM2AncestralDiscreteScheduler\",\"KDPM2DiscreteScheduler\",\"LMSDiscreteScheduler\",\"PNDMScheduler\",\"UniPCMultistepScheduler\"]\n",
        "USE_KARRAS = True # @param {type:\"boolean\"}\n",
        "NUMBER_OF_IMAGES  = 4# @param {type:\"number\"}\n",
        "CLIP_SKIP = None if CLIP_SKIP == 1 else CLIP_SKIP - 1\n",
        "\n",
        "if SEED == -1:\n",
        "    SEED = random.randint(1,10000000000)\n",
        "generator = torch.Generator(device=\"cuda\").manual_seed(SEED)\n",
        "sc = f'''pipe.scheduler = {SCHEDULER}.from_config(pipe.scheduler.config, use_karras_sigmas={USE_KARRAS})'''\n",
        "exec(sc)\n",
        "final_images=[]\n",
        "if NUMBER_OF_IMAGES != 1:\n",
        "    for i in range(NUMBER_OF_IMAGES):\n",
        "        SEED = random.randint(1,10000000000)\n",
        "        print(f'SEED : {SEED}')\n",
        "        generator = torch.Generator(device=\"cuda\").manual_seed(SEED)\n",
        "        image = pipe(PROMPT,negative_prompt = NEGATIVE_PROMPT,clip_skip=CLIP_SKIP,generator=generator,width = WIDTH , height = HEIGHT,num_inference_steps=SAMPLING_STEPS,guidance_scale = CFG_scale).images[0]\n",
        "        final_images.append(image)\n",
        "        image.save(f'outputs/{PROMPT[:10]}_{SEED}.png')\n",
        "    f_images = make_image_grid(final_images, 1, len(final_images))\n",
        "    display(f_images)\n",
        "else:\n",
        "    print(f'SEED : {SEED}')\n",
        "    image = pipe(PROMPT,negative_prompt = NEGATIVE_PROMPT,clip_skip=CLIP_SKIP,generator=generator,width = WIDTH , height = HEIGHT,num_inference_steps=SAMPLING_STEPS,guidance_scale = CFG_scale).images[0]\n",
        "    image.save(f'outputs/{PROMPT[:11]}_{SEED}_{CLIP_SKIP}_{SCHEDULER}.png')\n",
        "    display(image)\n"
      ],
      "metadata": {
        "cellView": "form",
        "id": "qAetP2pwAOJr"
      },
      "execution_count": null,
      "outputs": []
    },
    {
      "cell_type": "code",
      "source": [
        "# @title DOWNLOAD THE ZIP WITH ALL THE IMAGES\n",
        "import zipfile\n",
        "import os\n",
        "from google.colab import files\n",
        "\n",
        "def zip_folder(folder_path, zip_filename):\n",
        "    with zipfile.ZipFile(zip_filename, 'w', zipfile.ZIP_DEFLATED) as zipf:\n",
        "        for root, _, files in os.walk(folder_path):\n",
        "            for file in files:\n",
        "                file_path = os.path.join(root, file)\n",
        "                arcname = os.path.relpath(file_path, folder_path)\n",
        "                zipf.write(file_path, arcname)\n",
        "\n",
        "folder_to_zip = \"outputs\"\n",
        "zip_filename = \"output.zip\"\n",
        "zip_folder(folder_to_zip, zip_filename)\n",
        "print(f'Succesfully saved all the images in {zip_filename}\\nDownloading the zip.....')\n",
        "files.download(zip_filename)"
      ],
      "metadata": {
        "cellView": "form",
        "id": "njvEFp1wSseb"
      },
      "execution_count": null,
      "outputs": []
    }
  ]
}